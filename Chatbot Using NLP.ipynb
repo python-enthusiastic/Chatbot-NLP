{
 "cells": [
  {
   "cell_type": "code",
   "execution_count": 1,
   "id": "4741ebce",
   "metadata": {},
   "outputs": [],
   "source": [
    "import nltk "
   ]
  },
  {
   "cell_type": "code",
   "execution_count": 2,
   "id": "02e44202",
   "metadata": {},
   "outputs": [],
   "source": [
    "import re\n",
    "import os\n",
    "import csv\n",
    "from nltk.stem.snowball import SnowballStemmer\n",
    "import random\n",
    "from nltk.classify import SklearnClassifier\n",
    "from nltk.tokenize import RegexpTokenizer\n",
    "from nltk.corpus import stopwords\n",
    "from nltk.stem.wordnet import WordNetLemmatizer\n",
    "import numpy as np\n",
    "import pandas as pd"
   ]
  },
  {
   "cell_type": "code",
   "execution_count": 3,
   "id": "540dd6a1",
   "metadata": {},
   "outputs": [],
   "source": [
    "#getting multiple input in the same sell\n",
    "from IPython.core.interactiveshell import InteractiveShell\n",
    "InteractiveShell.ast_node_interactivity= 'all'\n",
    "\n",
    "#ignore all warning\n",
    "import warnings\n",
    "warnings.filterwarnings('ignore')\n",
    "warnings.filterwarnings(action='ignore',category=DeprecationWarning)"
   ]
  },
  {
   "cell_type": "code",
   "execution_count": 4,
   "id": "450e35b0",
   "metadata": {},
   "outputs": [],
   "source": [
    "#display all the row and column of the dataframe instead of truncated version\n",
    "from IPython.display import display\n",
    "pd.set_option(\"display.max_columns\",None)\n",
    "pd.set_option(\"display.max_rows\",None)"
   ]
  },
  {
   "cell_type": "markdown",
   "id": "3439b5c1",
   "metadata": {},
   "source": [
    "## Preprocess"
   ]
  },
  {
   "cell_type": "code",
   "execution_count": 5,
   "id": "13e80303",
   "metadata": {},
   "outputs": [],
   "source": [
    "statement = \"The Big brown fox jumped over a lazy dog.\"\n",
    "statement2 = \"This is particularly important is today's world where we are swamped with unstructured natural language date on the variety of social media platform people engage in now-a-days(note - now-a-days in the decade of 2010-2020)\""
   ]
  },
  {
   "cell_type": "code",
   "execution_count": 6,
   "id": "c3e835dc",
   "metadata": {},
   "outputs": [
    {
     "data": {
      "text/plain": [
       "False"
      ]
     },
     "execution_count": 6,
     "metadata": {},
     "output_type": "execute_result"
    },
    {
     "data": {
      "text/plain": [
       "'the big brown fox jumped over a lazy dog.'"
      ]
     },
     "execution_count": 6,
     "metadata": {},
     "output_type": "execute_result"
    },
    {
     "data": {
      "text/plain": [
       "\"this is particularly important is today's world where we are swamped with unstructured natural language date on the variety of social media platform people engage in now-a-days(note - now-a-days in the decade of 2010-2020)\""
      ]
     },
     "execution_count": 6,
     "metadata": {},
     "output_type": "execute_result"
    }
   ],
   "source": [
    "#convert sentence to lower case \n",
    "'This' == 'this'\n",
    "statement.lower()\n",
    "statement2.lower()"
   ]
  },
  {
   "cell_type": "code",
   "execution_count": 7,
   "id": "b2d9384d",
   "metadata": {},
   "outputs": [
    {
     "data": {
      "text/plain": [
       "['The', 'Big', 'brown', 'fox', 'jumped', 'over', 'a', 'lazy', 'dog']"
      ]
     },
     "execution_count": 7,
     "metadata": {},
     "output_type": "execute_result"
    },
    {
     "data": {
      "text/plain": [
       "['This',\n",
       " 'is',\n",
       " 'particularly',\n",
       " 'important',\n",
       " 'is',\n",
       " 'today',\n",
       " 's',\n",
       " 'world',\n",
       " 'where',\n",
       " 'we',\n",
       " 'are',\n",
       " 'swamped',\n",
       " 'with',\n",
       " 'unstructured',\n",
       " 'natural',\n",
       " 'language',\n",
       " 'date',\n",
       " 'on',\n",
       " 'the',\n",
       " 'variety',\n",
       " 'of',\n",
       " 'social',\n",
       " 'media',\n",
       " 'platform',\n",
       " 'people',\n",
       " 'engage',\n",
       " 'in',\n",
       " 'now',\n",
       " 'a',\n",
       " 'days',\n",
       " 'note',\n",
       " 'now',\n",
       " 'a',\n",
       " 'days',\n",
       " 'in',\n",
       " 'the',\n",
       " 'decade',\n",
       " 'of',\n",
       " '2010',\n",
       " '2020']"
      ]
     },
     "execution_count": 7,
     "metadata": {},
     "output_type": "execute_result"
    }
   ],
   "source": [
    "tokenizer = RegexpTokenizer(r'\\w+')\n",
    "tokens = tokenizer.tokenize(statement)\n",
    "tokens\n",
    "tokens2 = tokenizer.tokenize(statement2)\n",
    "tokens2\n",
    "                            "
   ]
  },
  {
   "cell_type": "markdown",
   "id": "bd5254af",
   "metadata": {},
   "source": [
    "## Stopword: Filter words to remove non-useful words"
   ]
  },
  {
   "cell_type": "code",
   "execution_count": 8,
   "id": "9f49bf25",
   "metadata": {},
   "outputs": [
    {
     "data": {
      "text/plain": [
       "['The', 'Big', 'brown', 'fox', 'jumped', 'lazy', 'dog']"
      ]
     },
     "execution_count": 8,
     "metadata": {},
     "output_type": "execute_result"
    }
   ],
   "source": [
    "filtered_word = [w for w in tokens if not w in stopwords.words('english')]\n",
    "filtered_word"
   ]
  },
  {
   "cell_type": "code",
   "execution_count": 9,
   "id": "44d3236e",
   "metadata": {},
   "outputs": [
    {
     "data": {
      "text/plain": [
       "['This',\n",
       " 'particularly',\n",
       " 'important',\n",
       " 'today',\n",
       " 'world',\n",
       " 'swamped',\n",
       " 'unstructured',\n",
       " 'natural',\n",
       " 'language',\n",
       " 'date',\n",
       " 'variety',\n",
       " 'social',\n",
       " 'media',\n",
       " 'platform',\n",
       " 'people',\n",
       " 'engage',\n",
       " 'days',\n",
       " 'note',\n",
       " 'days',\n",
       " 'decade',\n",
       " '2010',\n",
       " '2020']"
      ]
     },
     "execution_count": 9,
     "metadata": {},
     "output_type": "execute_result"
    }
   ],
   "source": [
    "filtered_word = [w for w in tokens2 if not w in stopwords.words('english')]\n",
    "filtered_word"
   ]
  },
  {
   "cell_type": "code",
   "execution_count": 10,
   "id": "87b0ee50",
   "metadata": {},
   "outputs": [],
   "source": [
    "def preprocess(sentence):\n",
    "    sentence = sentence.lower()\n",
    "    tokenizer = RegexpTokenizer(r'\\w+')\n",
    "    tokens = tokenizer.tokenize(sentence)\n",
    "    filtered_word = [w for w in tokens if not  w in stopwords.words('english')]\n",
    "    return filtered_word"
   ]
  },
  {
   "cell_type": "code",
   "execution_count": 11,
   "id": "4882a889",
   "metadata": {},
   "outputs": [
    {
     "data": {
      "text/plain": [
       "['big', 'brown', 'fox', 'jumped', 'lazy', 'dog']"
      ]
     },
     "execution_count": 11,
     "metadata": {},
     "output_type": "execute_result"
    }
   ],
   "source": [
    "preprocessed_sentence = preprocess(statement)\n",
    "preprocessed_sentence"
   ]
  },
  {
   "cell_type": "code",
   "execution_count": 12,
   "id": "d02a9f59",
   "metadata": {},
   "outputs": [
    {
     "data": {
      "text/plain": [
       "['particularly',\n",
       " 'important',\n",
       " 'today',\n",
       " 'world',\n",
       " 'swamped',\n",
       " 'unstructured',\n",
       " 'natural',\n",
       " 'language',\n",
       " 'date',\n",
       " 'variety',\n",
       " 'social',\n",
       " 'media',\n",
       " 'platform',\n",
       " 'people',\n",
       " 'engage',\n",
       " 'days',\n",
       " 'note',\n",
       " 'days',\n",
       " 'decade',\n",
       " '2010',\n",
       " '2020']"
      ]
     },
     "execution_count": 12,
     "metadata": {},
     "output_type": "execute_result"
    }
   ],
   "source": [
    "preprocess(statement2)"
   ]
  },
  {
   "cell_type": "markdown",
   "id": "65dec9c8",
   "metadata": {},
   "source": [
    "# tagging"
   ]
  },
  {
   "cell_type": "code",
   "execution_count": 13,
   "id": "0916afda",
   "metadata": {},
   "outputs": [
    {
     "data": {
      "text/plain": [
       "[('big', 'JJ'),\n",
       " ('brown', 'NN'),\n",
       " ('fox', 'NN'),\n",
       " ('jumped', 'VBD'),\n",
       " ('lazy', 'JJ'),\n",
       " ('dog', 'NN')]"
      ]
     },
     "execution_count": 13,
     "metadata": {},
     "output_type": "execute_result"
    }
   ],
   "source": [
    "tags = nltk.pos_tag(preprocessed_sentence)\n",
    "tags"
   ]
  },
  {
   "cell_type": "code",
   "execution_count": 14,
   "id": "9a230120",
   "metadata": {},
   "outputs": [
    {
     "data": {
      "text/plain": [
       "[('particularly', 'RB'),\n",
       " ('important', 'JJ'),\n",
       " ('today', 'NN'),\n",
       " ('world', 'NN'),\n",
       " ('swamped', 'VBD'),\n",
       " ('unstructured', 'JJ'),\n",
       " ('natural', 'JJ'),\n",
       " ('language', 'NN'),\n",
       " ('date', 'NN'),\n",
       " ('variety', 'NN'),\n",
       " ('social', 'JJ'),\n",
       " ('media', 'NNS'),\n",
       " ('platform', 'JJ'),\n",
       " ('people', 'NNS'),\n",
       " ('engage', 'VBP'),\n",
       " ('days', 'NNS'),\n",
       " ('note', 'VBP'),\n",
       " ('days', 'NNS'),\n",
       " ('decade', 'NN'),\n",
       " ('2010', 'CD'),\n",
       " ('2020', 'CD')]"
      ]
     },
     "execution_count": 14,
     "metadata": {},
     "output_type": "execute_result"
    }
   ],
   "source": [
    "tags = nltk.pos_tag(preprocess(statement2))\n",
    "tags"
   ]
  },
  {
   "cell_type": "code",
   "execution_count": 15,
   "id": "bad68236",
   "metadata": {},
   "outputs": [],
   "source": [
    "def extract_tagged(sentences):\n",
    "    feature = []\n",
    "    for tagged_words in sentences:\n",
    "        word,tag = tagged_words\n",
    "        if tag=='NN' or tag == 'VBN' or tag == 'VBP' or tag =='RB' or tag == 'VBZ' or tag =='VBG' or tag =='PRP'or tag =='JJ'or tag =='NNS' :\n",
    "            feature.append(word)\n",
    "    return feature"
   ]
  },
  {
   "cell_type": "code",
   "execution_count": 16,
   "id": "d1109c57",
   "metadata": {},
   "outputs": [
    {
     "data": {
      "text/plain": [
       "['particularly',\n",
       " 'important',\n",
       " 'today',\n",
       " 'world',\n",
       " 'unstructured',\n",
       " 'natural',\n",
       " 'language',\n",
       " 'date',\n",
       " 'variety',\n",
       " 'social',\n",
       " 'media',\n",
       " 'platform',\n",
       " 'people',\n",
       " 'engage',\n",
       " 'days',\n",
       " 'note',\n",
       " 'days',\n",
       " 'decade']"
      ]
     },
     "execution_count": 16,
     "metadata": {},
     "output_type": "execute_result"
    }
   ],
   "source": [
    "extract_tagged(tags)"
   ]
  },
  {
   "cell_type": "code",
   "execution_count": 17,
   "id": "beaa6979",
   "metadata": {},
   "outputs": [
    {
     "name": "stdout",
     "output_type": "stream",
     "text": [
      "cactus\n",
      "willing\n",
      "foot\n",
      "stemmed\n"
     ]
    }
   ],
   "source": [
    "lmtzr = WordNetLemmatizer()\n",
    "print(lmtzr.lemmatize('cacti'))\n",
    "print(lmtzr.lemmatize('willing'))\n",
    "print(lmtzr.lemmatize('feet'))\n",
    "print(lmtzr.lemmatize('stemmed'))\n",
    "\n",
    "#also do this with orignal text\n"
   ]
  },
  {
   "cell_type": "code",
   "execution_count": 18,
   "id": "c2cb79cb",
   "metadata": {},
   "outputs": [
    {
     "name": "stderr",
     "output_type": "stream",
     "text": [
      "[nltk_data] Error loading wordnet: <urlopen error [WinError 10060] A\n",
      "[nltk_data]     connection attempt failed because the connected party\n",
      "[nltk_data]     did not properly respond after a period of time, or\n",
      "[nltk_data]     established connection failed because connected host\n",
      "[nltk_data]     has failed to respond>\n"
     ]
    },
    {
     "data": {
      "text/plain": [
       "False"
      ]
     },
     "execution_count": 18,
     "metadata": {},
     "output_type": "execute_result"
    }
   ],
   "source": [
    "nltk.download(\"wordnet\")"
   ]
  },
  {
   "cell_type": "markdown",
   "id": "92b94704",
   "metadata": {},
   "source": [
    "## Stem Word"
   ]
  },
  {
   "cell_type": "code",
   "execution_count": 19,
   "id": "904b9e4f",
   "metadata": {},
   "outputs": [],
   "source": [
    "word_for_streaming = ['sten','streaming','stemmed','stemmer','stems','feet','willing']"
   ]
  },
  {
   "cell_type": "code",
   "execution_count": 20,
   "id": "15494903",
   "metadata": {},
   "outputs": [
    {
     "data": {
      "text/plain": [
       "['sten', 'stream', 'stem', 'stemmer', 'stem', 'feet', 'will']"
      ]
     },
     "execution_count": 20,
     "metadata": {},
     "output_type": "execute_result"
    }
   ],
   "source": [
    "stemmer = SnowballStemmer('english')\n",
    "[stemmer.stem(x) for x in word_for_streaming]"
   ]
  },
  {
   "cell_type": "markdown",
   "id": "526a03da",
   "metadata": {},
   "source": [
    "## Putting it all together"
   ]
  },
  {
   "cell_type": "code",
   "execution_count": 21,
   "id": "75086318",
   "metadata": {},
   "outputs": [],
   "source": [
    "def extract_feature(text):\n",
    "    word = preprocess(text)\n",
    "    tags = nltk.pos_tag(word)\n",
    "    extracted_features = extract_tagged(tags)\n",
    "    stemmed_words = [stemmer.stem(x) for x in extracted_features]\n",
    "    result = [lmtzr.lemmatize(x) for x in stemmed_words]\n",
    "    return result"
   ]
  },
  {
   "cell_type": "code",
   "execution_count": 22,
   "id": "99e2dcab",
   "metadata": {},
   "outputs": [
    {
     "name": "stdout",
     "output_type": "stream",
     "text": [
      "['particular', 'import', 'today', 'world', 'unstructur', 'natur', 'languag', 'date', 'varieti', 'social', 'medium', 'platform', 'peopl', 'engag', 'day', 'note', 'day', 'decad']\n"
     ]
    }
   ],
   "source": [
    "words = extract_feature(statement2)\n",
    "print(words)"
   ]
  },
  {
   "cell_type": "code",
   "execution_count": 23,
   "id": "442754a7",
   "metadata": {},
   "outputs": [
    {
     "data": {
      "text/plain": [
       "['hurt', 'right', 'foot', 'wear', 'white', 'shoe', 'foot']"
      ]
     },
     "execution_count": 23,
     "metadata": {},
     "output_type": "execute_result"
    }
   ],
   "source": [
    "extract_feature(\"He hurt his right foot while he was wearing white shoes on his feet\")"
   ]
  },
  {
   "cell_type": "markdown",
   "id": "17910ed9",
   "metadata": {},
   "source": [
    "## Implement bag of words"
   ]
  },
  {
   "cell_type": "code",
   "execution_count": 24,
   "id": "745cc13a",
   "metadata": {},
   "outputs": [],
   "source": [
    "def word_feats(words):\n",
    "    return dict([(word,True) for word in words])"
   ]
  },
  {
   "cell_type": "code",
   "execution_count": 25,
   "id": "abfda7b9",
   "metadata": {},
   "outputs": [
    {
     "data": {
      "text/plain": [
       "{'particular': True,\n",
       " 'import': True,\n",
       " 'today': True,\n",
       " 'world': True,\n",
       " 'unstructur': True,\n",
       " 'natur': True,\n",
       " 'languag': True,\n",
       " 'date': True,\n",
       " 'varieti': True,\n",
       " 'social': True,\n",
       " 'medium': True,\n",
       " 'platform': True,\n",
       " 'peopl': True,\n",
       " 'engag': True,\n",
       " 'day': True,\n",
       " 'note': True,\n",
       " 'decad': True}"
      ]
     },
     "execution_count": 25,
     "metadata": {},
     "output_type": "execute_result"
    }
   ],
   "source": [
    "word_feats(words)"
   ]
  },
  {
   "cell_type": "markdown",
   "id": "29c66731",
   "metadata": {},
   "source": [
    "## PARSING the  whole document"
   ]
  },
  {
   "cell_type": "code",
   "execution_count": 26,
   "id": "62a193b1",
   "metadata": {},
   "outputs": [],
   "source": [
    "def extract_feature_from_doc(data):\n",
    "    result = []\n",
    "    corpus = []\n",
    "    #responses of the chatbot\n",
    "    answers = {}\n",
    "    for (text,category,answer) in data:\n",
    "        features = extract_feature(text)\n",
    "        corpus.append(features)\n",
    "        result.append([word_feats(features),category])\n",
    "        answers[category] = answer\n",
    "    return (result,sum(corpus,[]),answers)"
   ]
  },
  {
   "cell_type": "code",
   "execution_count": 27,
   "id": "1d3a3a01",
   "metadata": {},
   "outputs": [
    {
     "data": {
      "text/plain": [
       "([[{'input': True, 'user': True}, 'category']],\n",
       " ['input', 'user'],\n",
       " {'category': 'answer to give'})"
      ]
     },
     "execution_count": 27,
     "metadata": {},
     "output_type": "execute_result"
    }
   ],
   "source": [
    "extract_feature_from_doc([['this is the input text from the user','category','answer to give']])"
   ]
  },
  {
   "cell_type": "code",
   "execution_count": 28,
   "id": "d5e2a073",
   "metadata": {},
   "outputs": [],
   "source": [
    "def get_content(filename):\n",
    "    doc = os.path.join(filename)\n",
    "    with open(doc,'r',encoding='utf-8') as content_file:\n",
    "        lines = csv.reader(content_file,delimiter='|')\n",
    "        data = [x for x in lines if len(x) == 3]\n",
    "        return data\n"
   ]
  },
  {
   "cell_type": "code",
   "execution_count": 29,
   "id": "5a0737c8",
   "metadata": {},
   "outputs": [],
   "source": [
    "filename = \"/Users/Anonymous/OneDrive/Untitled Folder/leave.txt\""
   ]
  },
  {
   "cell_type": "code",
   "execution_count": 30,
   "id": "fb71e09a",
   "metadata": {},
   "outputs": [],
   "source": [
    "data = get_content(filename)"
   ]
  },
  {
   "cell_type": "code",
   "execution_count": 31,
   "id": "6da9dd12",
   "metadata": {},
   "outputs": [
    {
     "data": {
      "text/plain": [
       "[['Hello there!', 'Greeting', 'Hello! How can I assist you today?'],\n",
       " ['Hey, chatbot!',\n",
       "  'Greeting',\n",
       "  'Hello there! How can I assist you with your leave request?'],\n",
       " ['I need to request personal leave.',\n",
       "  'Request',\n",
       "  'Certainly! Please provide the start date and the reason for your personal leave request.'],\n",
       " [\"I'd like to take a day off for my child's school event.\",\n",
       "  'Request',\n",
       "  \"That's important! Please specify the date and the details of your child's school event.\"],\n",
       " ['How many vacation days do I have left?',\n",
       "  'Query',\n",
       "  'I can check your remaining vacation days. Please provide your employee ID or username.'],\n",
       " [\"What's the process for requesting bereavement leave?\",\n",
       "  'Query',\n",
       "  \"Requesting bereavement leave is sensitive. Please provide the details, and I'll explain the process.\"],\n",
       " [\"I'd like to change my phone number for contact purposes.\",\n",
       "  'Action',\n",
       "  \"Of course! Let's update your phone number. Please provide the new phone number.\"],\n",
       " ['Can you assist me in rescheduling my upcoming leave?',\n",
       "  'Action',\n",
       "  'Certainly! Please provide the current leave details and the new dates you have in mind.'],\n",
       " [\"You're doing a great job!\",\n",
       "  'Closing',\n",
       "  \"Thank you! I'm here to help. If you have more questions, feel free to ask. Have a wonderful day!\"],\n",
       " ['Take care!',\n",
       "  'Closing',\n",
       "  \"Goodbye! Take care, and remember, I'm here whenever you need assistance. Have a fantastic day!\"],\n",
       " ['Hello, bot!',\n",
       "  'Greeting',\n",
       "  'Hello! How can I assist you with your leave-related queries?'],\n",
       " ['I need to request a leave for a family emergency.',\n",
       "  'Request',\n",
       "  \"I'm sorry to hear that. Please provide the start date and details related to your family emergency leave request.\"],\n",
       " ['I want to apply for educational leave.',\n",
       "  'Request',\n",
       "  \"That's commendable! Please specify the course, duration, and any necessary documents for your educational leave request.\"],\n",
       " [\"Can you provide information about the company's holiday calendar?\",\n",
       "  'Query',\n",
       "  \"Certainly! I can share the company's holiday calendar with you. Would you like me to do that?\"],\n",
       " ['Is it possible to take half-day leave?',\n",
       "  'Query',\n",
       "  \"Yes, you can request half-day leave. Please provide the date and whether it's in the morning or afternoon.\"],\n",
       " [\"I'd like to change my direct deposit details.\",\n",
       "  'Action',\n",
       "  \"Sure, let's update your direct deposit information. Please provide the new details.\"],\n",
       " ['Could you help me with a leave cancellation?',\n",
       "  'Action',\n",
       "  'Of course! Please provide the leave request ID or the details of the request you want to cancel.'],\n",
       " ['Thank you for your assistance today!',\n",
       "  'Closing',\n",
       "  \"You're very welcome! If you have more questions in the future, feel free to reach out. Have a fantastic day!\"],\n",
       " ['Goodbye, and have a great day!',\n",
       "  'Closing',\n",
       "  \"Goodbye! If you ever need assistance again, don't hesitate to contact me. Have a wonderful day!\"],\n",
       " ['Greetings, chatbot!',\n",
       "  'Greeting',\n",
       "  'Hello there! How can I assist you today?'],\n",
       " [\"I'm interested in taking a long vacation. Can you guide me through it?\",\n",
       "  'Query',\n",
       "  \"Certainly! Taking a long vacation requires some planning. Please provide the details, and I'll help you get started.\"],\n",
       " ['I need to request jury duty leave.',\n",
       "  'Request',\n",
       "  'Of course! Please provide the start date and any documentation related to your jury duty leave request.'],\n",
       " ['I want to take a day off to volunteer for a charity event.',\n",
       "  'Request',\n",
       "  \"That's admirable! Please specify the date and the charity event you'd like to volunteer for.\"],\n",
       " [\"What's the policy for sick leave documentation?\",\n",
       "  'Query',\n",
       "  \"The policy for sick leave documentation varies. Please provide more details, and I'll explain the requirements.\"],\n",
       " [\"I'd like to change my emergency contact person.\",\n",
       "  'Action',\n",
       "  \"Sure thing! Let's update your emergency contact information. Please provide the new contact details.\"],\n",
       " ['Can you assist me in extending my vacation leave?',\n",
       "  'Action',\n",
       "  'Certainly! Please provide the current end date and the new end date for your extended vacation leave.'],\n",
       " ['Thanks for all your help and support!',\n",
       "  'Closing',\n",
       "  \"You're very welcome! If you have more questions or need assistance in the future, don't hesitate to ask. Have a fantastic day!\"],\n",
       " ['Farewell, and take care!',\n",
       "  'Closing',\n",
       "  \"Goodbye! Take care, and remember, I'm here whenever you need assistance. Have a wonderful day!\"],\n",
       " ['Hi there!', 'Greeting', 'Hello! How can I assist you today?'],\n",
       " [\"I need to request a leave for my child's graduation.\",\n",
       "  'Request',\n",
       "  'Congratulations to your child! Please provide the graduation date and any required documentation.'],\n",
       " ['I want to take a day off for a personal milestone celebration.',\n",
       "  'Request',\n",
       "  \"That's wonderful! Please specify the date and the nature of the milestone celebration.\"],\n",
       " ['Can you explain the process for requesting remote work during leave?',\n",
       "  'Query',\n",
       "  \"Certainly! Requesting remote work during leave involves certain steps. Please provide more details, and I'll guide you through it.\"],\n",
       " ['Is there a limit to the number of days I can take off in a row?',\n",
       "  'Query',\n",
       "  \"There may be a limit depending on company policy. Please provide more information, and I'll clarify.\"],\n",
       " [\"I'd like to update my emergency evacuation location.\",\n",
       "  'Action',\n",
       "  \"Sure, let's update your emergency evacuation location. Please provide the new details.\"],\n",
       " ['Can you help me with a leave of absence extension?',\n",
       "  'Action',\n",
       "  'Of course! Please provide the current end date and the new end date for your leave of absence extension.'],\n",
       " ['Your assistance has been invaluable!',\n",
       "  'Closing',\n",
       "  \"Thank you! I'm here to assist. If you have more questions in the future, feel free to reach out. Have a wonderful day!\"],\n",
       " ['Goodbye for now, and best wishes!',\n",
       "  'Closing',\n",
       "  \"Goodbye! If you ever need assistance again, don't hesitate to contact me. Have a fantastic day!\"],\n",
       " ['Hello there!', 'Greeting', 'Hello! How can I assist you today?'],\n",
       " ['Hi, chatbot!',\n",
       "  'Greeting',\n",
       "  'Hi! How can I assist you with your leave request?'],\n",
       " ['I need to request military leave.',\n",
       "  'Request',\n",
       "  'Thank you for your service. Please provide the start date and any necessary documentation for your military leave request.'],\n",
       " ['I want to take a sabbatical leave.',\n",
       "  'Request',\n",
       "  \"That's great! Sabbatical leaves are exciting. Please specify the duration and purpose of your sabbatical leave.\"],\n",
       " ['How can I view my leave history?',\n",
       "  'Query',\n",
       "  'You can access your leave history in your employee portal. If you need help with it, feel free to ask me.'],\n",
       " ['Is leave without pay possible?',\n",
       "  'Query',\n",
       "  'Yes, leave without pay is an option. Please provide the reason and duration for your leave without pay request.'],\n",
       " [\"I'd like to change my emergency contact information.\",\n",
       "  'Action',\n",
       "  'Sure thing! I can guide you through updating your emergency contact information. Please provide your desired changes.'],\n",
       " ['Can you remind me of my upcoming leave dates?',\n",
       "  'Action',\n",
       "  \"Of course! I'll send you a reminder of your upcoming leave dates to your registered email address.\"],\n",
       " ['Thanks for all your help!',\n",
       "  'Closing',\n",
       "  \"You're very welcome! If you have any more questions or need assistance in the future, just let me know. Have a wonderful day!\"],\n",
       " ['Farewell for now!',\n",
       "  'Closing',\n",
       "  'Goodbye! If you ever need assistance again, feel free to reach out. Have a fantastic day!'],\n",
       " ['Hey bot!', 'Greeting', 'Hello there! How can I assist you today?'],\n",
       " ['Good day!',\n",
       "  'Greeting',\n",
       "  'Good day! How can I help you with your leave-related queries?'],\n",
       " ['I need to request a leave of absence.',\n",
       "  'Request',\n",
       "  'Certainly! Please provide the start date and the reason for your leave of absence.'],\n",
       " [\"I'd like to apply for study leave.\",\n",
       "  'Request',\n",
       "  'Education is important! Please specify the course, duration, and any supporting documents for your study leave request.'],\n",
       " ['Can you explain the accrual rate for vacation leave?',\n",
       "  'Query',\n",
       "  'Sure, the accrual rate for vacation leave is [rate]. Would you like to know more about how it works?'],\n",
       " ['How do I submit a leave request on the portal?',\n",
       "  'Query',\n",
       "  'I can guide you through the process. Please specify the type of leave and desired dates.'],\n",
       " ['I need to upload my medical certificate for sick leave.',\n",
       "  'Action',\n",
       "  \"Great! Please upload the medical certificate, and I'll make sure it's processed for your sick leave request.\"],\n",
       " ['Can you help me find a substitute for my shift during my leave?',\n",
       "  'Action',\n",
       "  \"Certainly! I'll assist you in finding a substitute for your shift during your leave. Please provide the details.\"],\n",
       " ['Appreciate your assistance!',\n",
       "  'Closing',\n",
       "  \"You're appreciated too! If you ever have more questions, don't hesitate to reach out. Have a fantastic day!\"],\n",
       " ['Until next time!',\n",
       "  'Closing',\n",
       "  \"Goodbye for now! If you need assistance in the future, remember, I'm just a message away. Have a wonderful day!\"],\n",
       " ['Hi, chatbot assistant!',\n",
       "  'Greeting',\n",
       "  'Hello! How can I assist you today with your leave request?'],\n",
       " ['Good evening, bot!',\n",
       "  'Greeting',\n",
       "  'Good evening! How can I help you with your leave-related queries?'],\n",
       " ['I need to request compassionate leave.',\n",
       "  'Request',\n",
       "  \"I'm sorry to hear that. Please provide the start date and details related to your compassionate leave request.\"],\n",
       " ['I want to apply for unpaid family leave.',\n",
       "  'Request',\n",
       "  'Understood! Please specify the duration and the reason for your unpaid family leave request.'],\n",
       " [\"What's the policy on carrying over unused vacation days?\",\n",
       "  'Query',\n",
       "  'The policy allows carrying over [number] unused vacation days. Need more details on this?'],\n",
       " ['Is it possible to split my vacation days into multiple periods?',\n",
       "  'Query',\n",
       "  'Yes, you can split your vacation days. Please provide the dates and durations for each period.'],\n",
       " [\"I'd like to change my primary contact information.\",\n",
       "  'Action',\n",
       "  \"Certainly! Let's update your primary contact information. Please provide the changes you want to make.\"],\n",
       " ['Please remind me of my leave request status.',\n",
       "  'Action',\n",
       "  \"I'll check the status of your leave request and send you an update shortly.\"],\n",
       " ['Thanks for all your help today!',\n",
       "  'Closing',\n",
       "  \"You're very welcome! If you have any more questions or need assistance in the future, don't hesitate to ask. Have a fantastic day!\"],\n",
       " ['Goodbye and take care!',\n",
       "  'Closing',\n",
       "  \"Goodbye! Take care, and remember, I'm here whenever you need assistance. Have a wonderful day!\"],\n",
       " ['Greetings!', 'Greeting', 'Hello! How can I assist you today?'],\n",
       " ['Hey there!',\n",
       "  'Greeting',\n",
       "  'Hi! How can I assist you with your leave request?'],\n",
       " ['I need to request a leave for my wedding.',\n",
       "  'Request',\n",
       "  'Congratulations! Please provide the wedding date and any documentation you may have.'],\n",
       " ['I want to take a day off for a family event.',\n",
       "  'Request',\n",
       "  'Of course! Please specify the date and the nature of the family event.'],\n",
       " [\"What's the process for requesting unpaid leave?\",\n",
       "  'Query',\n",
       "  'Requesting unpaid leave involves [process]. Would you like me to guide you through it?'],\n",
       " ['How many paid holidays do we have this year?',\n",
       "  'Query',\n",
       "  'We have a total of [number] paid holidays this year. Would you like to know the specific dates?'],\n",
       " [\"I'd like to change my email address for notifications.\",\n",
       "  'Action',\n",
       "  \"Sure, let's update your email address. Please provide the new email address.\"],\n",
       " ['Can you help me cancel my leave request?',\n",
       "  'Action',\n",
       "  'Certainly! Please provide the leave request ID or the details of the request you want to cancel.'],\n",
       " ['I see that you\\'d like the responses in the format \"response',\n",
       "  'category',\n",
       "  'input\" as shown. Here are the responses you provided in that format:'],\n",
       " ['Hello there!',\n",
       "  'Greeting',\n",
       "  'Hi! How can I assist you with your leave request?'],\n",
       " ['I need to request a leave for a family event.',\n",
       "  'Request',\n",
       "  'Of course! Please specify the date and the nature of the family event.'],\n",
       " ['How many paid holidays do we have this year?',\n",
       "  'Query',\n",
       "  'We have a total of [number] paid holidays this year. Would you like to know the specific dates?'],\n",
       " ['Can you help me cancel my leave request?',\n",
       "  'Action',\n",
       "  'Certainly! Please provide the leave request ID or the details of the request you want to cancel.'],\n",
       " ['Farewell for now!',\n",
       "  'Closing',\n",
       "  \"Goodbye! Take care, and remember, I'm here whenever you need assistance. Have a wonderful day!\"],\n",
       " ['How can I contact your support team?',\n",
       "  'Contact Number',\n",
       "  'You can reach our support team at [contact number].'],\n",
       " ['Where can I find general information about your company?',\n",
       "  'General Information',\n",
       "  'For general information, you can visit our website at [website URL].']]"
      ]
     },
     "execution_count": 31,
     "metadata": {},
     "output_type": "execute_result"
    }
   ],
   "source": [
    "data"
   ]
  },
  {
   "cell_type": "code",
   "execution_count": 32,
   "id": "ef21b771",
   "metadata": {},
   "outputs": [],
   "source": [
    "feature_data,corpus,answer = extract_feature_from_doc(data)"
   ]
  },
  {
   "cell_type": "code",
   "execution_count": 33,
   "id": "2c6666d7",
   "metadata": {},
   "outputs": [
    {
     "name": "stdout",
     "output_type": "stream",
     "text": [
      "[{'great': True, 'job': True}, 'Closing']\n"
     ]
    }
   ],
   "source": [
    "print(feature_data[8])"
   ]
  },
  {
   "cell_type": "code",
   "execution_count": 34,
   "id": "9f7187c1",
   "metadata": {},
   "outputs": [
    {
     "data": {
      "text/plain": [
       "[[{'hello': True}, 'Greeting'],\n",
       " [{'hey': True, 'chatbot': True}, 'Greeting'],\n",
       " [{'need': True, 'person': True, 'leav': True}, 'Request'],\n",
       " [{'day': True, 'child': True, 'school': True, 'event': True}, 'Request'],\n",
       " [{'mani': True, 'vacat': True, 'day': True}, 'Query'],\n",
       " [{'process': True, 'request': True, 'bereav': True, 'leav': True}, 'Query'],\n",
       " [{'chang': True,\n",
       "   'phone': True,\n",
       "   'number': True,\n",
       "   'contact': True,\n",
       "   'purpos': True},\n",
       "  'Action'],\n",
       " [{'assist': True, 'reschedul': True, 'upcom': True, 'leav': True}, 'Action'],\n",
       " [{'great': True, 'job': True}, 'Closing'],\n",
       " [{'care': True}, 'Closing'],\n",
       " [{'hello': True, 'bot': True}, 'Greeting'],\n",
       " [{'need': True, 'request': True, 'leav': True, 'famili': True, 'emerg': True},\n",
       "  'Request'],\n",
       " [{'appli': True, 'educ': True, 'leav': True}, 'Request'],\n",
       " [{'inform': True, 'compani': True, 'holiday': True, 'calendar': True},\n",
       "  'Query'],\n",
       " [{'possibl': True, 'half': True, 'day': True}, 'Query'],\n",
       " [{'chang': True, 'direct': True, 'deposit': True, 'detail': True}, 'Action'],\n",
       " [{'cancel': True}, 'Action'],\n",
       " [{'thank': True, 'assist': True, 'today': True}, 'Closing'],\n",
       " [{'goodby': True, 'great': True, 'day': True}, 'Closing'],\n",
       " [{'greet': True, 'chatbot': True}, 'Greeting'],\n",
       " [{'interest': True, 'take': True, 'long': True, 'vacat': True, 'guid': True},\n",
       "  'Query'],\n",
       " [{'need': True, 'juri': True, 'duti': True, 'leav': True}, 'Request'],\n",
       " [{'want': True, 'take': True, 'day': True, 'chariti': True, 'event': True},\n",
       "  'Request'],\n",
       " [{'polici': True, 'sick': True, 'leav': True, 'document': True}, 'Query'],\n",
       " [{'chang': True, 'emerg': True, 'contact': True, 'person': True}, 'Action'],\n",
       " [{'assist': True, 'extend': True, 'vacat': True, 'leav': True}, 'Action'],\n",
       " [{'thank': True, 'help': True}, 'Closing'],\n",
       " [{'farewel': True, 'care': True}, 'Closing'],\n",
       " [{'hi': True}, 'Greeting'],\n",
       " [{'need': True,\n",
       "   'request': True,\n",
       "   'leav': True,\n",
       "   'child': True,\n",
       "   'graduat': True},\n",
       "  'Request'],\n",
       " [{'want': True,\n",
       "   'take': True,\n",
       "   'day': True,\n",
       "   'person': True,\n",
       "   'mileston': True,\n",
       "   'celebr': True},\n",
       "  'Request'],\n",
       " [{'explain': True,\n",
       "   'process': True,\n",
       "   'request': True,\n",
       "   'remot': True,\n",
       "   'work': True,\n",
       "   'leav': True},\n",
       "  'Query'],\n",
       " [{'limit': True, 'number': True, 'day': True, 'take': True, 'row': True},\n",
       "  'Query'],\n",
       " [{'updat': True, 'emerg': True, 'evacu': True, 'locat': True}, 'Action'],\n",
       " [{'help': True, 'absenc': True, 'extens': True}, 'Action'],\n",
       " [{'assist': True, 'invalu': True}, 'Closing'],\n",
       " [{'goodby': True, 'wish': True}, 'Closing'],\n",
       " [{'hello': True}, 'Greeting'],\n",
       " [{'hi': True, 'chatbot': True}, 'Greeting'],\n",
       " [{'need': True, 'militari': True, 'leav': True}, 'Request'],\n",
       " [{'want': True, 'sabbat': True, 'leav': True}, 'Request'],\n",
       " [{'view': True, 'leav': True, 'histori': True}, 'Query'],\n",
       " [{'pay': True, 'possibl': True}, 'Query'],\n",
       " [{'chang': True, 'emerg': True, 'contact': True, 'inform': True}, 'Action'],\n",
       " [{'remind': True, 'upcom': True, 'leav': True, 'date': True}, 'Action'],\n",
       " [{'thank': True, 'help': True}, 'Closing'],\n",
       " [{'farewel': True}, 'Closing'],\n",
       " [{'hey': True, 'bot': True}, 'Greeting'],\n",
       " [{'good': True, 'day': True}, 'Greeting'],\n",
       " [{'need': True, 'request': True, 'leav': True, 'absenc': True}, 'Request'],\n",
       " [{'appli': True, 'studi': True, 'leav': True}, 'Request'],\n",
       " [{'accrual': True, 'rate': True, 'vacat': True, 'leav': True}, 'Query'],\n",
       " [{'submit': True, 'leav': True, 'request': True, 'portal': True}, 'Query'],\n",
       " [{'need': True,\n",
       "   'upload': True,\n",
       "   'medic': True,\n",
       "   'certif': True,\n",
       "   'sick': True,\n",
       "   'leav': True},\n",
       "  'Action'],\n",
       " [{'help': True, 'substitut': True, 'shift': True, 'leav': True}, 'Action'],\n",
       " [{'appreci': True, 'assist': True}, 'Closing'],\n",
       " [{'next': True, 'time': True}, 'Closing'],\n",
       " [{'hi': True, 'chatbot': True, 'assist': True}, 'Greeting'],\n",
       " [{'good': True, 'even': True, 'bot': True}, 'Greeting'],\n",
       " [{'need': True, 'request': True, 'compassion': True, 'leav': True},\n",
       "  'Request'],\n",
       " [{'appli': True, 'unpaid': True, 'famili': True, 'leav': True}, 'Request'],\n",
       " [{'polici': True, 'carri': True, 'unus': True, 'vacat': True, 'day': True},\n",
       "  'Query'],\n",
       " [{'possibl': True,\n",
       "   'split': True,\n",
       "   'vacat': True,\n",
       "   'day': True,\n",
       "   'multipl': True,\n",
       "   'period': True},\n",
       "  'Query'],\n",
       " [{'chang': True, 'primari': True, 'contact': True, 'inform': True}, 'Action'],\n",
       " [{'plea': True, 'leav': True, 'request': True, 'status': True}, 'Action'],\n",
       " [{'thank': True, 'help': True, 'today': True}, 'Closing'],\n",
       " [{'goodby': True, 'take': True, 'care': True}, 'Closing'],\n",
       " [{'greet': True}, 'Greeting'],\n",
       " [{'hey': True}, 'Greeting'],\n",
       " [{'need': True, 'request': True, 'leav': True, 'wed': True}, 'Request'],\n",
       " [{'want': True, 'take': True, 'day': True, 'famili': True, 'event': True},\n",
       "  'Request'],\n",
       " [{'process': True, 'request': True, 'unpaid': True, 'leav': True}, 'Query'],\n",
       " [{'mani': True, 'paid': True, 'holiday': True, 'year': True}, 'Query'],\n",
       " [{'chang': True, 'email': True, 'address': True, 'notif': True}, 'Action'],\n",
       " [{'help': True, 'cancel': True, 'leav': True, 'request': True}, 'Action'],\n",
       " [{'see': True, 'respons': True, 'format': True}, 'category'],\n",
       " [{'hello': True}, 'Greeting'],\n",
       " [{'need': True, 'request': True, 'leav': True, 'famili': True, 'event': True},\n",
       "  'Request'],\n",
       " [{'mani': True, 'paid': True, 'holiday': True, 'year': True}, 'Query'],\n",
       " [{'help': True, 'cancel': True, 'leav': True, 'request': True}, 'Action'],\n",
       " [{'farewel': True}, 'Closing'],\n",
       " [{'contact': True, 'support': True, 'team': True}, 'Contact Number'],\n",
       " [{'general': True, 'inform': True, 'compani': True}, 'General Information']]"
      ]
     },
     "execution_count": 34,
     "metadata": {},
     "output_type": "execute_result"
    }
   ],
   "source": [
    "feature_data"
   ]
  },
  {
   "cell_type": "code",
   "execution_count": 35,
   "id": "4dfa309e",
   "metadata": {},
   "outputs": [
    {
     "data": {
      "text/plain": [
       "['hello',\n",
       " 'hey',\n",
       " 'chatbot',\n",
       " 'need',\n",
       " 'person',\n",
       " 'leav',\n",
       " 'day',\n",
       " 'child',\n",
       " 'school',\n",
       " 'event',\n",
       " 'mani',\n",
       " 'vacat',\n",
       " 'day',\n",
       " 'process',\n",
       " 'request',\n",
       " 'bereav',\n",
       " 'leav',\n",
       " 'chang',\n",
       " 'phone',\n",
       " 'number',\n",
       " 'contact',\n",
       " 'purpos',\n",
       " 'assist',\n",
       " 'reschedul',\n",
       " 'upcom',\n",
       " 'leav',\n",
       " 'great',\n",
       " 'job',\n",
       " 'care',\n",
       " 'hello',\n",
       " 'bot',\n",
       " 'need',\n",
       " 'request',\n",
       " 'leav',\n",
       " 'famili',\n",
       " 'emerg',\n",
       " 'appli',\n",
       " 'educ',\n",
       " 'leav',\n",
       " 'inform',\n",
       " 'compani',\n",
       " 'holiday',\n",
       " 'calendar',\n",
       " 'possibl',\n",
       " 'half',\n",
       " 'day',\n",
       " 'chang',\n",
       " 'direct',\n",
       " 'deposit',\n",
       " 'detail',\n",
       " 'cancel',\n",
       " 'thank',\n",
       " 'assist',\n",
       " 'today',\n",
       " 'goodby',\n",
       " 'great',\n",
       " 'day',\n",
       " 'greet',\n",
       " 'chatbot',\n",
       " 'interest',\n",
       " 'take',\n",
       " 'long',\n",
       " 'vacat',\n",
       " 'guid',\n",
       " 'need',\n",
       " 'juri',\n",
       " 'duti',\n",
       " 'leav',\n",
       " 'want',\n",
       " 'take',\n",
       " 'day',\n",
       " 'chariti',\n",
       " 'event',\n",
       " 'polici',\n",
       " 'sick',\n",
       " 'leav',\n",
       " 'document',\n",
       " 'chang',\n",
       " 'emerg',\n",
       " 'contact',\n",
       " 'person',\n",
       " 'assist',\n",
       " 'extend',\n",
       " 'vacat',\n",
       " 'leav',\n",
       " 'thank',\n",
       " 'help',\n",
       " 'farewel',\n",
       " 'care',\n",
       " 'hi',\n",
       " 'need',\n",
       " 'request',\n",
       " 'leav',\n",
       " 'child',\n",
       " 'graduat',\n",
       " 'want',\n",
       " 'take',\n",
       " 'day',\n",
       " 'person',\n",
       " 'mileston',\n",
       " 'celebr',\n",
       " 'explain',\n",
       " 'process',\n",
       " 'request',\n",
       " 'remot',\n",
       " 'work',\n",
       " 'leav',\n",
       " 'limit',\n",
       " 'number',\n",
       " 'day',\n",
       " 'take',\n",
       " 'row',\n",
       " 'updat',\n",
       " 'emerg',\n",
       " 'evacu',\n",
       " 'locat',\n",
       " 'help',\n",
       " 'absenc',\n",
       " 'extens',\n",
       " 'assist',\n",
       " 'invalu',\n",
       " 'goodby',\n",
       " 'wish',\n",
       " 'hello',\n",
       " 'hi',\n",
       " 'chatbot',\n",
       " 'need',\n",
       " 'militari',\n",
       " 'leav',\n",
       " 'want',\n",
       " 'sabbat',\n",
       " 'leav',\n",
       " 'view',\n",
       " 'leav',\n",
       " 'histori',\n",
       " 'pay',\n",
       " 'possibl',\n",
       " 'chang',\n",
       " 'emerg',\n",
       " 'contact',\n",
       " 'inform',\n",
       " 'remind',\n",
       " 'upcom',\n",
       " 'leav',\n",
       " 'date',\n",
       " 'thank',\n",
       " 'help',\n",
       " 'farewel',\n",
       " 'hey',\n",
       " 'bot',\n",
       " 'good',\n",
       " 'day',\n",
       " 'need',\n",
       " 'request',\n",
       " 'leav',\n",
       " 'absenc',\n",
       " 'appli',\n",
       " 'studi',\n",
       " 'leav',\n",
       " 'accrual',\n",
       " 'rate',\n",
       " 'vacat',\n",
       " 'leav',\n",
       " 'submit',\n",
       " 'leav',\n",
       " 'request',\n",
       " 'portal',\n",
       " 'need',\n",
       " 'upload',\n",
       " 'medic',\n",
       " 'certif',\n",
       " 'sick',\n",
       " 'leav',\n",
       " 'help',\n",
       " 'substitut',\n",
       " 'shift',\n",
       " 'leav',\n",
       " 'appreci',\n",
       " 'assist',\n",
       " 'next',\n",
       " 'time',\n",
       " 'hi',\n",
       " 'chatbot',\n",
       " 'assist',\n",
       " 'good',\n",
       " 'even',\n",
       " 'bot',\n",
       " 'need',\n",
       " 'request',\n",
       " 'compassion',\n",
       " 'leav',\n",
       " 'appli',\n",
       " 'unpaid',\n",
       " 'famili',\n",
       " 'leav',\n",
       " 'polici',\n",
       " 'carri',\n",
       " 'unus',\n",
       " 'vacat',\n",
       " 'day',\n",
       " 'possibl',\n",
       " 'split',\n",
       " 'vacat',\n",
       " 'day',\n",
       " 'multipl',\n",
       " 'period',\n",
       " 'chang',\n",
       " 'primari',\n",
       " 'contact',\n",
       " 'inform',\n",
       " 'plea',\n",
       " 'leav',\n",
       " 'request',\n",
       " 'status',\n",
       " 'thank',\n",
       " 'help',\n",
       " 'today',\n",
       " 'goodby',\n",
       " 'take',\n",
       " 'care',\n",
       " 'greet',\n",
       " 'hey',\n",
       " 'need',\n",
       " 'request',\n",
       " 'leav',\n",
       " 'wed',\n",
       " 'want',\n",
       " 'take',\n",
       " 'day',\n",
       " 'famili',\n",
       " 'event',\n",
       " 'process',\n",
       " 'request',\n",
       " 'unpaid',\n",
       " 'leav',\n",
       " 'mani',\n",
       " 'paid',\n",
       " 'holiday',\n",
       " 'year',\n",
       " 'chang',\n",
       " 'email',\n",
       " 'address',\n",
       " 'notif',\n",
       " 'help',\n",
       " 'cancel',\n",
       " 'leav',\n",
       " 'request',\n",
       " 'see',\n",
       " 'respons',\n",
       " 'format',\n",
       " 'respons',\n",
       " 'hello',\n",
       " 'need',\n",
       " 'request',\n",
       " 'leav',\n",
       " 'famili',\n",
       " 'event',\n",
       " 'mani',\n",
       " 'paid',\n",
       " 'holiday',\n",
       " 'year',\n",
       " 'help',\n",
       " 'cancel',\n",
       " 'leav',\n",
       " 'request',\n",
       " 'farewel',\n",
       " 'contact',\n",
       " 'support',\n",
       " 'team',\n",
       " 'general',\n",
       " 'inform',\n",
       " 'compani']"
      ]
     },
     "execution_count": 35,
     "metadata": {},
     "output_type": "execute_result"
    }
   ],
   "source": [
    "corpus"
   ]
  },
  {
   "cell_type": "code",
   "execution_count": 36,
   "id": "3ffdc372",
   "metadata": {},
   "outputs": [
    {
     "data": {
      "text/plain": [
       "{'Greeting': 'Hi! How can I assist you with your leave request?',\n",
       " 'Request': 'Of course! Please specify the date and the nature of the family event.',\n",
       " 'Query': 'We have a total of [number] paid holidays this year. Would you like to know the specific dates?',\n",
       " 'Action': 'Certainly! Please provide the leave request ID or the details of the request you want to cancel.',\n",
       " 'Closing': \"Goodbye! Take care, and remember, I'm here whenever you need assistance. Have a wonderful day!\",\n",
       " 'category': 'input\" as shown. Here are the responses you provided in that format:',\n",
       " 'Contact Number': 'You can reach our support team at [contact number].',\n",
       " 'General Information': 'For general information, you can visit our website at [website URL].'}"
      ]
     },
     "execution_count": 36,
     "metadata": {},
     "output_type": "execute_result"
    }
   ],
   "source": [
    "answer"
   ]
  },
  {
   "cell_type": "markdown",
   "id": "407ba4bb",
   "metadata": {},
   "source": [
    "## Trai a model using these features"
   ]
  },
  {
   "cell_type": "code",
   "execution_count": 37,
   "id": "17958668",
   "metadata": {},
   "outputs": [],
   "source": [
    "##split data into train test\n",
    "split_ratio = 0.8"
   ]
  },
  {
   "cell_type": "code",
   "execution_count": 38,
   "id": "eccf5d9c",
   "metadata": {},
   "outputs": [],
   "source": [
    "def split_dataset(data,split_ratio):\n",
    "    random.shuffle(data)\n",
    "    data_length = len(data)\n",
    "    train_split = int(data_length*split_ratio)\n",
    "    return (data[:train_split]),(data[train_split:])"
   ]
  },
  {
   "cell_type": "code",
   "execution_count": 39,
   "id": "f457099d",
   "metadata": {},
   "outputs": [],
   "source": [
    "training_data,test_data = split_dataset(feature_data,split_ratio)"
   ]
  },
  {
   "cell_type": "code",
   "execution_count": 40,
   "id": "8f0c6565",
   "metadata": {},
   "outputs": [
    {
     "data": {
      "text/plain": [
       "[[{'chang': True, 'email': True, 'address': True, 'notif': True}, 'Action'],\n",
       " [{'chang': True,\n",
       "   'phone': True,\n",
       "   'number': True,\n",
       "   'contact': True,\n",
       "   'purpos': True},\n",
       "  'Action'],\n",
       " [{'want': True, 'sabbat': True, 'leav': True}, 'Request'],\n",
       " [{'farewel': True}, 'Closing'],\n",
       " [{'help': True, 'cancel': True, 'leav': True, 'request': True}, 'Action'],\n",
       " [{'need': True, 'juri': True, 'duti': True, 'leav': True}, 'Request'],\n",
       " [{'cancel': True}, 'Action'],\n",
       " [{'hi': True, 'chatbot': True}, 'Greeting'],\n",
       " [{'help': True, 'cancel': True, 'leav': True, 'request': True}, 'Action'],\n",
       " [{'hello': True}, 'Greeting'],\n",
       " [{'general': True, 'inform': True, 'compani': True}, 'General Information'],\n",
       " [{'greet': True, 'chatbot': True}, 'Greeting'],\n",
       " [{'need': True, 'request': True, 'compassion': True, 'leav': True},\n",
       "  'Request'],\n",
       " [{'submit': True, 'leav': True, 'request': True, 'portal': True}, 'Query'],\n",
       " [{'hello': True}, 'Greeting'],\n",
       " [{'explain': True,\n",
       "   'process': True,\n",
       "   'request': True,\n",
       "   'remot': True,\n",
       "   'work': True,\n",
       "   'leav': True},\n",
       "  'Query'],\n",
       " [{'pay': True, 'possibl': True}, 'Query'],\n",
       " [{'hey': True, 'bot': True}, 'Greeting'],\n",
       " [{'need': True, 'person': True, 'leav': True}, 'Request'],\n",
       " [{'assist': True, 'extend': True, 'vacat': True, 'leav': True}, 'Action'],\n",
       " [{'need': True, 'request': True, 'leav': True, 'wed': True}, 'Request'],\n",
       " [{'help': True, 'substitut': True, 'shift': True, 'leav': True}, 'Action'],\n",
       " [{'inform': True, 'compani': True, 'holiday': True, 'calendar': True},\n",
       "  'Query'],\n",
       " [{'hello': True}, 'Greeting'],\n",
       " [{'care': True}, 'Closing'],\n",
       " [{'view': True, 'leav': True, 'histori': True}, 'Query'],\n",
       " [{'mani': True, 'paid': True, 'holiday': True, 'year': True}, 'Query'],\n",
       " [{'next': True, 'time': True}, 'Closing'],\n",
       " [{'appli': True, 'studi': True, 'leav': True}, 'Request'],\n",
       " [{'possibl': True,\n",
       "   'split': True,\n",
       "   'vacat': True,\n",
       "   'day': True,\n",
       "   'multipl': True,\n",
       "   'period': True},\n",
       "  'Query'],\n",
       " [{'mani': True, 'paid': True, 'holiday': True, 'year': True}, 'Query'],\n",
       " [{'remind': True, 'upcom': True, 'leav': True, 'date': True}, 'Action'],\n",
       " [{'thank': True, 'help': True}, 'Closing'],\n",
       " [{'need': True,\n",
       "   'request': True,\n",
       "   'leav': True,\n",
       "   'child': True,\n",
       "   'graduat': True},\n",
       "  'Request'],\n",
       " [{'possibl': True, 'half': True, 'day': True}, 'Query'],\n",
       " [{'hey': True, 'chatbot': True}, 'Greeting'],\n",
       " [{'process': True, 'request': True, 'bereav': True, 'leav': True}, 'Query'],\n",
       " [{'goodby': True, 'take': True, 'care': True}, 'Closing'],\n",
       " [{'need': True, 'militari': True, 'leav': True}, 'Request'],\n",
       " [{'great': True, 'job': True}, 'Closing'],\n",
       " [{'appli': True, 'unpaid': True, 'famili': True, 'leav': True}, 'Request'],\n",
       " [{'hello': True, 'bot': True}, 'Greeting'],\n",
       " [{'need': True,\n",
       "   'upload': True,\n",
       "   'medic': True,\n",
       "   'certif': True,\n",
       "   'sick': True,\n",
       "   'leav': True},\n",
       "  'Action'],\n",
       " [{'chang': True, 'emerg': True, 'contact': True, 'inform': True}, 'Action'],\n",
       " [{'thank': True, 'help': True, 'today': True}, 'Closing'],\n",
       " [{'chang': True, 'primari': True, 'contact': True, 'inform': True}, 'Action'],\n",
       " [{'polici': True, 'carri': True, 'unus': True, 'vacat': True, 'day': True},\n",
       "  'Query'],\n",
       " [{'farewel': True, 'care': True}, 'Closing'],\n",
       " [{'thank': True, 'assist': True, 'today': True}, 'Closing'],\n",
       " [{'assist': True, 'invalu': True}, 'Closing'],\n",
       " [{'appli': True, 'educ': True, 'leav': True}, 'Request'],\n",
       " [{'need': True, 'request': True, 'leav': True, 'famili': True, 'event': True},\n",
       "  'Request'],\n",
       " [{'mani': True, 'vacat': True, 'day': True}, 'Query'],\n",
       " [{'hey': True}, 'Greeting'],\n",
       " [{'hi': True, 'chatbot': True, 'assist': True}, 'Greeting'],\n",
       " [{'plea': True, 'leav': True, 'request': True, 'status': True}, 'Action'],\n",
       " [{'need': True, 'request': True, 'leav': True, 'famili': True, 'emerg': True},\n",
       "  'Request'],\n",
       " [{'good': True, 'even': True, 'bot': True}, 'Greeting'],\n",
       " [{'limit': True, 'number': True, 'day': True, 'take': True, 'row': True},\n",
       "  'Query'],\n",
       " [{'want': True,\n",
       "   'take': True,\n",
       "   'day': True,\n",
       "   'person': True,\n",
       "   'mileston': True,\n",
       "   'celebr': True},\n",
       "  'Request'],\n",
       " [{'thank': True, 'help': True}, 'Closing'],\n",
       " [{'need': True, 'request': True, 'leav': True, 'absenc': True}, 'Request'],\n",
       " [{'want': True, 'take': True, 'day': True, 'chariti': True, 'event': True},\n",
       "  'Request'],\n",
       " [{'appreci': True, 'assist': True}, 'Closing'],\n",
       " [{'chang': True, 'direct': True, 'deposit': True, 'detail': True}, 'Action'],\n",
       " [{'process': True, 'request': True, 'unpaid': True, 'leav': True}, 'Query']]"
      ]
     },
     "execution_count": 40,
     "metadata": {},
     "output_type": "execute_result"
    }
   ],
   "source": [
    "training_data"
   ]
  },
  {
   "cell_type": "code",
   "execution_count": 41,
   "id": "210c7a4f",
   "metadata": {},
   "outputs": [],
   "source": [
    "#save data \n",
    "np.save('training_data',training_data)\n",
    "np.save('test_data',test_data)"
   ]
  },
  {
   "cell_type": "markdown",
   "id": "cb53e658",
   "metadata": {},
   "source": [
    "## Classification using Decision tree"
   ]
  },
  {
   "cell_type": "code",
   "execution_count": 42,
   "id": "fe24b8eb",
   "metadata": {},
   "outputs": [],
   "source": [
    "training_data = np.load('training_data.npy', allow_pickle=True)\n",
    "test_data = np.load('test_data.npy', allow_pickle=True)\n"
   ]
  },
  {
   "cell_type": "code",
   "execution_count": 43,
   "id": "5ca770fc",
   "metadata": {},
   "outputs": [
    {
     "data": {
      "text/plain": [
       "array([[{'chang': True, 'emerg': True, 'contact': True, 'person': True},\n",
       "        'Action'],\n",
       "       [{'want': True, 'take': True, 'day': True, 'famili': True, 'event': True},\n",
       "        'Request'],\n",
       "       [{'farewel': True}, 'Closing'],\n",
       "       [{'day': True, 'child': True, 'school': True, 'event': True},\n",
       "        'Request'],\n",
       "       [{'see': True, 'respons': True, 'format': True}, 'category'],\n",
       "       [{'interest': True, 'take': True, 'long': True, 'vacat': True, 'guid': True},\n",
       "        'Query'],\n",
       "       [{'goodby': True, 'wish': True}, 'Closing'],\n",
       "       [{'updat': True, 'emerg': True, 'evacu': True, 'locat': True},\n",
       "        'Action'],\n",
       "       [{'help': True, 'absenc': True, 'extens': True}, 'Action'],\n",
       "       [{'greet': True}, 'Greeting'],\n",
       "       [{'assist': True, 'reschedul': True, 'upcom': True, 'leav': True},\n",
       "        'Action'],\n",
       "       [{'goodby': True, 'great': True, 'day': True}, 'Closing'],\n",
       "       [{'contact': True, 'support': True, 'team': True},\n",
       "        'Contact Number'],\n",
       "       [{'polici': True, 'sick': True, 'leav': True, 'document': True},\n",
       "        'Query'],\n",
       "       [{'good': True, 'day': True}, 'Greeting'],\n",
       "       [{'accrual': True, 'rate': True, 'vacat': True, 'leav': True},\n",
       "        'Query'],\n",
       "       [{'hi': True}, 'Greeting']], dtype=object)"
      ]
     },
     "execution_count": 43,
     "metadata": {},
     "output_type": "execute_result"
    }
   ],
   "source": [
    "test_data"
   ]
  },
  {
   "cell_type": "code",
   "execution_count": 44,
   "id": "429800ed",
   "metadata": {},
   "outputs": [],
   "source": [
    "def train_using_decision_tree(training_data,test_data):\n",
    "    classifier = nltk.classify.DecisionTreeClassifier.train(training_data,entropy_cutoff=0.6,support_cutoff=6)\n",
    "    classifier_name = type(classifier).__name__\n",
    "    training_set_accuracy = nltk.classify.accuracy(classifier,training_data)\n",
    "    print('Training set accuracy:',training_set_accuracy)\n",
    "    test_set_accuracy = nltk.classify.accuracy(classifier,test_data)\n",
    "    print('Test set accuracy:',test_set_accuracy)\n",
    "    return classifier, classifier_name, test_set_accuracy, training_set_accuracy\n",
    "    "
   ]
  },
  {
   "cell_type": "code",
   "execution_count": 45,
   "id": "c2cb55e8",
   "metadata": {},
   "outputs": [
    {
     "name": "stdout",
     "output_type": "stream",
     "text": [
      "Training set accuracy: 0.9696969696969697\n",
      "Test set accuracy: 0.29411764705882354\n"
     ]
    }
   ],
   "source": [
    "dtclassifier,classifier_name, test_set_accuracy, training_set_accuracy = train_using_decision_tree(training_data,test_data)"
   ]
  },
  {
   "cell_type": "markdown",
   "id": "fd5e91b7",
   "metadata": {},
   "source": [
    "## Classification using Naive Bayes"
   ]
  },
  {
   "cell_type": "code",
   "execution_count": 46,
   "id": "fb26ab4c",
   "metadata": {},
   "outputs": [],
   "source": [
    "def train_using_naive_bayes(training_data,test_data):\n",
    "    classifier = nltk.NaiveBayesClassifier.train(training_data)\n",
    "    classifier_name = type(classifier).__name__\n",
    "    training_set_accuracy = nltk.classify.accuracy(classifier,training_data)\n",
    "    print('Training set accuracy:',training_set_accuracy)\n",
    "    test_set_accuracy = nltk.classify.accuracy(classifier,test_data)\n",
    "    print('Test set accuracy:',test_set_accuracy)\n",
    "    return classifier, classifier_name, test_set_accuracy, training_set_accuracy\n",
    "    "
   ]
  },
  {
   "cell_type": "code",
   "execution_count": 47,
   "id": "994b261d",
   "metadata": {},
   "outputs": [
    {
     "name": "stdout",
     "output_type": "stream",
     "text": [
      "Training set accuracy: 0.8939393939393939\n",
      "Test set accuracy: 0.5294117647058824\n",
      "0.8939393939393939\n",
      "0.5294117647058824\n",
      "100\n",
      "Most Informative Features\n",
      "                 compani = True           Genera : Query  =      7.5 : 1.0\n",
      "                  inform = True           Genera : Query  =      7.5 : 1.0\n",
      "                    leav = None           Closin : Reques =      6.2 : 1.0\n",
      "                    need = True           Reques : Action =      5.5 : 1.0\n",
      "                  assist = True           Closin : Action =      2.5 : 1.0\n",
      "                    need = None            Query : Reques =      2.4 : 1.0\n",
      "                     day = True            Query : Reques =      2.3 : 1.0\n",
      "                    leav = True           Reques : Query  =      2.3 : 1.0\n",
      "                   vacat = True            Query : Action =      2.2 : 1.0\n",
      "                 request = True           Reques : Action =      1.6 : 1.0\n"
     ]
    }
   ],
   "source": [
    "classifier,classifier_name,test_set_accuracy,training_set_accuracy = train_using_naive_bayes(training_data,test_data)\n",
    "print(training_set_accuracy)\n",
    "print(test_set_accuracy)\n",
    "print(len(classifier.most_informative_features()))\n",
    "classifier.show_most_informative_features()"
   ]
  },
  {
   "cell_type": "code",
   "execution_count": 48,
   "id": "c432e07e",
   "metadata": {},
   "outputs": [
    {
     "data": {
      "text/plain": [
       "['hello']"
      ]
     },
     "execution_count": 48,
     "metadata": {},
     "output_type": "execute_result"
    }
   ],
   "source": [
    "extract_feature(\"hello\")"
   ]
  },
  {
   "cell_type": "code",
   "execution_count": 49,
   "id": "f34e9490",
   "metadata": {},
   "outputs": [
    {
     "data": {
      "text/plain": [
       "{'hello': True}"
      ]
     },
     "execution_count": 49,
     "metadata": {},
     "output_type": "execute_result"
    }
   ],
   "source": [
    "word_feats(extract_feature('hello'))"
   ]
  },
  {
   "cell_type": "code",
   "execution_count": 50,
   "id": "82be6bca",
   "metadata": {},
   "outputs": [
    {
     "data": {
      "text/plain": [
       "'Greeting'"
      ]
     },
     "execution_count": 50,
     "metadata": {},
     "output_type": "execute_result"
    }
   ],
   "source": [
    "Input_sentence = \"Hi Good evening!\"\n",
    "classifier.classify(word_feats(extract_feature(Input_sentence)))"
   ]
  },
  {
   "cell_type": "code",
   "execution_count": 51,
   "id": "936f25a1",
   "metadata": {},
   "outputs": [],
   "source": [
    "def replay(input_statement):\n",
    "    category = dtclassifier.classify(word_feats(extract_feature(input_statement)))\n",
    "    return answer[category]"
   ]
  },
  {
   "cell_type": "code",
   "execution_count": 60,
   "id": "f4ccafe0",
   "metadata": {},
   "outputs": [
    {
     "data": {
      "text/plain": [
       "'Hi! How can I assist you with your leave request?'"
      ]
     },
     "execution_count": 60,
     "metadata": {},
     "output_type": "execute_result"
    }
   ],
   "source": [
    "replay('Hello')"
   ]
  },
  {
   "cell_type": "code",
   "execution_count": 53,
   "id": "b843a4c7",
   "metadata": {},
   "outputs": [
    {
     "data": {
      "text/plain": [
       "'Hi! How can I assist you with your leave request?'"
      ]
     },
     "execution_count": 53,
     "metadata": {},
     "output_type": "execute_result"
    }
   ],
   "source": [
    "replay(\"Hey, chatbot!\")"
   ]
  },
  {
   "cell_type": "code",
   "execution_count": 54,
   "id": "4e990976",
   "metadata": {},
   "outputs": [
    {
     "data": {
      "text/plain": [
       "'We have a total of [number] paid holidays this year. Would you like to know the specific dates?'"
      ]
     },
     "execution_count": 54,
     "metadata": {},
     "output_type": "execute_result"
    }
   ],
   "source": [
    "replay(\"Is it possible to take half-day leave?\")"
   ]
  },
  {
   "cell_type": "code",
   "execution_count": 55,
   "id": "7e92c225",
   "metadata": {},
   "outputs": [
    {
     "data": {
      "text/plain": [
       "\"Goodbye! Take care, and remember, I'm here whenever you need assistance. Have a wonderful day!\""
      ]
     },
     "execution_count": 55,
     "metadata": {},
     "output_type": "execute_result"
    }
   ],
   "source": [
    "replay(\"Thank you for your assistance today!\")"
   ]
  }
 ],
 "metadata": {
  "kernelspec": {
   "display_name": "Python 3 (ipykernel)",
   "language": "python",
   "name": "python3"
  },
  "language_info": {
   "codemirror_mode": {
    "name": "ipython",
    "version": 3
   },
   "file_extension": ".py",
   "mimetype": "text/x-python",
   "name": "python",
   "nbconvert_exporter": "python",
   "pygments_lexer": "ipython3",
   "version": "3.11.4"
  }
 },
 "nbformat": 4,
 "nbformat_minor": 5
}
